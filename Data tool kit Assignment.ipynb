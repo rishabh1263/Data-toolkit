{
 "cells": [
  {
   "cell_type": "markdown",
   "id": "c26bf488",
   "metadata": {},
   "source": [
    "## THEORY QUESTIONS"
   ]
  },
  {
   "cell_type": "markdown",
   "id": "6f4680c8",
   "metadata": {},
   "source": [
    "## Q1 : What is NumPy, and why is it widely used in Python)\n",
    "ANS : \n",
    "    NumPy (Numerical Python) is a powerful Python library used for numerical computing. It provides:\n",
    "\n",
    "N-dimensional arrays (ndarray) for efficient storage and operations.\n",
    "\n",
    "Vectorized operations for faster computation (compared to Python loops).\n",
    "\n",
    "Tools for linear algebra, statistics, and Fourier transforms.\n",
    "\n",
    "Integration with C/C++ and other libraries for high performance.\n",
    "\n",
    "Why it's widely used:\n",
    "\n",
    "It's fast, memory-efficient, and forms the foundation for libraries like Pandas, TensorFlow, and Scikit-learn."
   ]
  },
  {
   "cell_type": "markdown",
   "id": "ff12b6dd",
   "metadata": {},
   "source": [
    "## Q2 : How does broadcasting work in NumPy\n",
    "ANS :\n",
    "    Broadcasting in NumPy allows operations on arrays of different shapes by automatically expanding the smaller array's shape to match the larger one without copying data.\n",
    "\n",
    "Rules:\n",
    "\n",
    "Dimensions are compared from right to left.\n",
    "\n",
    "Dimensions must be equal, or one must be 1.\n",
    "\n",
    "If needed, NumPy stretches dimensions of size 1 to match the other.\n",
    "\n",
    "Example:\n",
    "\n",
    "python\n",
    "Copy\n",
    "Edit\n",
    "import numpy as np\n",
    "a = np.array([1, 2, 3])\n",
    "b = np.array([[1], [2], [3]])\n",
    "result = a + b\n",
    "Here, a is broadcast to shape (3,3) to match b."
   ]
  },
  {
   "cell_type": "markdown",
   "id": "b4e6c659",
   "metadata": {},
   "source": [
    "## Q3 :  What is a Pandas DataFrame\n",
    "ANS:\n",
    "A Pandas DataFrame is a 2-dimensional, labeled data structure in Python, similar to a table in a database or Excel spreadsheet. It allows data manipulation and analysis using rows and columns, with support for heterogeneous data types.\n"
   ]
  },
  {
   "cell_type": "markdown",
   "id": "a72c2ff2",
   "metadata": {},
   "source": [
    "##  Q4 :Explain the use of the groupby() method in Pandas\n",
    "ANS : The groupby() method in Pandas is used to split data into groups based on one or more columns. It allows you to perform operations like sum, mean, count, etc., on each group separately.\n",
    "\n",
    "Example:\n",
    "\n",
    "python\n",
    "Copy\n",
    "Edit\n",
    "df.groupby('department')['salary'].mean()"
   ]
  },
  {
   "cell_type": "markdown",
   "id": "13cdf2d3",
   "metadata": {},
   "source": [
    "## Q5 : A Why is Seaborn preferred for statistical visualizations\n",
    "ANS:\n",
    "    Seaborn is preferred for statistical visualizations because it provides high-level, easy-to-use functions for creating informative and attractive statistical graphics, with built-in support for complex datasets and automatic handling of themes, color palettes, and summary statistics."
   ]
  },
  {
   "cell_type": "markdown",
   "id": "390ca94d",
   "metadata": {},
   "source": [
    "## Q6: What are the differences between NumPy arrays and Python lists)\n",
    "ANS:\n",
    "    Differences between NumPy arrays and Python lists:\n",
    "\n",
    "Performance: NumPy arrays are faster and more memory-efficient than lists.\n",
    "\n",
    "Data Type: NumPy arrays have fixed, homogeneous data types; lists can hold mixed data types.\n",
    "\n",
    "Functionality: NumPy supports vectorized operations and advanced mathematical functions; lists require loops.\n",
    "\n",
    "Memory: NumPy uses less memory due to compact data storage.\n",
    "\n",
    "Broadcasting: NumPy allows element-wise operations with broadcasting; lists don’t support this.\n",
    "    "
   ]
  },
  {
   "cell_type": "markdown",
   "id": "506c5c3a",
   "metadata": {},
   "source": [
    "## Q7 : What is a heatmap, and when should it be used\n",
    "ANS:\n",
    "    A heatmap is a data visualization tool that uses color to represent values in a matrix or dataset.\n",
    "\n",
    "Use it when:\n",
    "\n",
    "You want to identify patterns, trends, or outliers in large datasets.\n",
    "\n",
    "You need to compare data across two dimensions, like time vs. activity or variables vs. correlation.\n",
    "\n",
    "It’s helpful for visualizing correlations or density of data points."
   ]
  },
  {
   "cell_type": "markdown",
   "id": "21fa4f0e",
   "metadata": {},
   "source": [
    "## Q8 : What does the term “vectorized operation” mean in NumPy\n",
    "ANS:\n",
    "A vectorized operation in NumPy refers to performing operations on entire arrays without using explicit loops. It leverages low-level optimizations for faster and more efficient computation.\n",
    "\n",
    "\n",
    "\n",
    "\n",
    "\n",
    "\n",
    "\n",
    "\n",
    "\n"
   ]
  },
  {
   "cell_type": "markdown",
   "id": "70db08d2",
   "metadata": {},
   "source": [
    "## Q9 : How does Matplotlib differ from Plotly\n",
    "ANS:\n",
    "Matplotlib vs Plotly (Concise for Interview):\n",
    "\n",
    "Matplotlib is a static, 2D plotting library ideal for basic plots and full control over visuals in Python scripts.\n",
    "\n",
    "Plotly is an interactive plotting library that supports zoom, hover, and export, great for dashboards and web apps.\n",
    "\n",
    "Key Difference:\n",
    "Matplotlib = Static, script-based\n",
    "Plotly = Interactive, web-based"
   ]
  },
  {
   "cell_type": "markdown",
   "id": "af3fad07",
   "metadata": {},
   "source": [
    "## Q10 : What is the significance of hierarchical indexing in Pandas\n",
    "ANS:\n",
    "Hierarchical indexing in Pandas allows you to have multiple (two or more) index levels on rows or columns.\n",
    "\n",
    "Significance:\n",
    "\n",
    "Enables multi-dimensional data representation in a 2D DataFrame.\n",
    "\n",
    "Facilitates grouping, slicing, and aggregation based on multiple keys.\n",
    "\n",
    "Improves data organization and supports advanced data analysis (like pivoting).\n",
    "\n",
    "It's especially useful when working with panel data or time-series data."
   ]
  },
  {
   "cell_type": "markdown",
   "id": "f76d1d5e",
   "metadata": {},
   "source": [
    "## Q11 :  What is the role of Seaborn’s pairplot() function\n",
    "ANS:\n",
    "    The seaborn.pairplot() function is used to create a grid of scatter plots for visualizing pairwise relationships between multiple variables in a dataset. It helps in exploring correlations, distributions, and potential trends in the data. The function can also include histograms or density plots along the diagonal for univariate analysis."
   ]
  },
  {
   "cell_type": "markdown",
   "id": "d4cf8435",
   "metadata": {},
   "source": [
    "## Q12 : A What is the purpose of the describe() function in Pandas\n",
    "ANS:\n",
    "The describe() function in Pandas provides summary statistics (like count, mean, std, min, max, and quartiles) for numerical columns in a DataFrame, helping quickly understand the data distribution."
   ]
  },
  {
   "cell_type": "markdown",
   "id": "7e0f460d",
   "metadata": {},
   "source": [
    "## Q13: Why is handling missing data important in Pandas\n",
    "ANS: \n",
    "Handling missing data in Pandas is important because it ensures data quality and consistency, prevents errors in analysis, and leads to more accurate and reliable results.\n",
    "\n",
    "\n",
    "\n",
    "\n",
    "\n",
    "\n",
    "\n",
    "\n",
    "\n"
   ]
  },
  {
   "cell_type": "markdown",
   "id": "39419343",
   "metadata": {},
   "source": [
    "## Q14:  What are the benefits of using Plotly for data visualization?\n",
    "ANS:\"Plotly offers interactive, high-quality visualizations with minimal code. It's great for dashboards, supports multiple chart types, integrates well with Python and Jupyter, and is ideal for exploring complex datasets.\"\n",
    "    "
   ]
  },
  {
   "cell_type": "markdown",
   "id": "257ccf2c",
   "metadata": {},
   "source": [
    "## Q15: How does NumPy handle multidimensional arrays\n",
    "ANS:\n",
    "    NumPy handles multidimensional arrays using the ndarray object, which supports arrays of any dimension. It stores data in a contiguous block of memory, allowing fast operations using broadcasting, slicing, and vectorized computations. Each array has attributes like .shape, .ndim, and .dtype to manage dimensions and data types efficiently."
   ]
  },
  {
   "cell_type": "markdown",
   "id": "7ec1ad87",
   "metadata": {},
   "source": [
    "## Q16:  What is the role of Bokeh in data visualization\n",
    "ANS:\n",
    "\n"
   ]
  },
  {
   "cell_type": "markdown",
   "id": "7e687aac",
   "metadata": {},
   "source": [
    "## Q17 : Explain the difference between apply() and map() in Pandas\n",
    "ANS:\n",
    "    map() vs apply() in Pandas (Short & Concise):\n",
    "\n",
    "map(): Used only with Series. Applies a function element-wise. Best for simple transformations.\n",
    "\n",
    "python\n",
    "Copy code\n",
    "series.map(lambda x: x*2)\n",
    "apply(): Used with both Series and DataFrames. More flexible. Can apply functions row-wise or column-wise in DataFrame.\n",
    "\n",
    "python\n",
    "Copy code\n",
    "df.apply(lambda x: x.sum(), axis=1)\n",
    "Tip: Use map() for simpler, 1D operations; apply() for more complex logic across rows/columns."
   ]
  },
  {
   "cell_type": "markdown",
   "id": "e287c2df",
   "metadata": {},
   "source": [
    "## Q18 : A What are some advanced features of NumPy\n",
    "ANS:\n",
    "    Here are some advanced features of NumPy for interview:\n",
    "\n",
    "Broadcasting – Perform operations on arrays of different shapes without explicit loops.\n",
    "\n",
    "Vectorization – Replaces explicit loops with optimized C-based operations for speed.\n",
    "\n",
    "Advanced Indexing & Slicing – Supports boolean, integer, and fancy indexing.\n",
    "\n",
    "Masked Arrays – Handle missing or invalid entries in arrays.\n",
    "\n",
    "Memory Mapping – Work with large datasets by mapping arrays to disk.\n",
    "\n",
    "Structured Arrays – Store heterogeneous data types like columns in a table.\n",
    "\n",
    "UFuncs (Universal Functions) – Fast element-wise operations with broadcasting support.\n",
    "\n",
    "NumPy C API – Integrate with C/C++ for high performance.\n",
    "\n",
    "Multidimensional Arrays – Efficient handling of N-dimensional data.\n",
    "\n",
    "Linear Algebra & FFT – Built-in support for matrix operations and fast Fourier transforms."
   ]
  },
  {
   "cell_type": "markdown",
   "id": "b479308f",
   "metadata": {},
   "source": [
    "## Q19: A How does Pandas simplify time series analysis\n",
    "ANS:Pandas simplifies time series analysis by providing powerful tools like datetime indexing, resampling, shifting, and rolling window operations, making it easy to manipulate, analyze, and visualize time-based data efficiently.\n",
    "    "
   ]
  },
  {
   "cell_type": "markdown",
   "id": "9d44e2c6",
   "metadata": {},
   "source": [
    "## Q20 : What is the role of a pivot table in Pandas\n",
    "ANS:\n",
    "    A pivot table in Pandas is used to summarize and aggregate data. It helps transform data by grouping rows and columns, applying functions like mean, sum, count, etc., making it easier to analyze patterns and trends."
   ]
  },
  {
   "cell_type": "markdown",
   "id": "437d476e",
   "metadata": {},
   "source": [
    "## Q21: Why is NumPy’s array slicing faster than Python’s list slicing\n",
    "ANS:\n",
    "    NumPy’s array slicing is faster than Python’s list slicing because NumPy uses contiguous memory blocks and vectorized operations implemented in C, which avoids Python-level loops and overhead."
   ]
  },
  {
   "cell_type": "markdown",
   "id": "b4dc7c23",
   "metadata": {},
   "source": [
    "## Q22: What are some common use cases for Seaborn\n",
    "ANS:\n",
    "    Common use cases for Seaborn:\n",
    "\n",
    "Statistical data visualization – Easily plot complex statistical graphs.\n",
    "\n",
    "Exploratory Data Analysis (EDA) – Quickly identify patterns and trends.\n",
    "\n",
    "Visualizing distributions – Using histograms, KDEs, boxplots, etc.\n",
    "\n",
    "Categorical data visualization – Bar plots, count plots, and violin plots.\n",
    "\n",
    "Correlation analysis – Heatmaps to visualize relationships between variables.\n",
    "\n",
    "Time series visualization – Line plots for temporal data.\n",
    "\n",
    "Enhancing Matplotlib plots – Cleaner, more attractive default styles."
   ]
  },
  {
   "cell_type": "markdown",
   "id": "38a1df87",
   "metadata": {},
   "source": [
    "## PRACTICAL QUESTIONS"
   ]
  },
  {
   "cell_type": "code",
   "execution_count": null,
   "id": "6e9fe68a",
   "metadata": {},
   "outputs": [],
   "source": [
    "## Q1: <A How do you create a 2D NumPy array and calculate the sum of each row)"
   ]
  },
  {
   "cell_type": "code",
   "execution_count": null,
   "id": "6bab809a",
   "metadata": {},
   "outputs": [],
   "source": [
    "import numpy as np\n",
    "arr = np.array([[1,2,3],[4,5,6]])"
   ]
  },
  {
   "cell_type": "code",
   "execution_count": null,
   "id": "6fb281cd",
   "metadata": {},
   "outputs": [],
   "source": [
    "arr"
   ]
  },
  {
   "cell_type": "code",
   "execution_count": null,
   "id": "24101ecd",
   "metadata": {},
   "outputs": [],
   "source": [
    "for i in arr:\n",
    "    print(i.sum())"
   ]
  },
  {
   "cell_type": "code",
   "execution_count": null,
   "id": "e9428b79",
   "metadata": {},
   "outputs": [],
   "source": [
    "## q2: Write a Pandas script to find the mean of a specific column in a DataFrameA "
   ]
  },
  {
   "cell_type": "code",
   "execution_count": null,
   "id": "77c6918b",
   "metadata": {},
   "outputs": [],
   "source": [
    "import pandas as pd\n",
    "\n",
    "DataFrameA = pd.DataFrame({\n",
    "    'column_name': [10, 20, 30, 40, 50],\n",
    "    'other_column': [5, 15, 25, 35, 45]\n",
    "})\n",
    "\n",
    "mean_value = DataFrameA['column_name'].mean()\n",
    "\n",
    "print(\"Mean of column_name:\", mean_value)\n"
   ]
  },
  {
   "cell_type": "code",
   "execution_count": null,
   "id": "1837c51f",
   "metadata": {},
   "outputs": [],
   "source": [
    "## q3: Create a scatter plot using MatplotlibA"
   ]
  },
  {
   "cell_type": "code",
   "execution_count": null,
   "id": "dcf78f85",
   "metadata": {},
   "outputs": [],
   "source": [
    "import matplotlib.pyplot as plt"
   ]
  },
  {
   "cell_type": "code",
   "execution_count": null,
   "id": "00a4c250",
   "metadata": {},
   "outputs": [],
   "source": [
    "df = pd.DataFrame({\n",
    "    'column_name': [10, 20, 30, 40, 50],\n",
    "    'other_column': [5, 15, 25, 35, 45]\n",
    "})\n",
    "\n",
    "plt.scatter(df['column_name'], df['other_column'], color = 'r', marker = '+', linewidths=10)\n",
    "plt.title(\"Scatter Plot\")\n",
    "plt.xlabel(\"Column Name\")\n",
    "plt.ylabel(\"Values\")\n",
    "plt.show()"
   ]
  },
  {
   "cell_type": "code",
   "execution_count": null,
   "id": "48177494",
   "metadata": {},
   "outputs": [],
   "source": [
    "## Q4:  How do you calculate the correlation matrix using Seaborn and visualize it with a heatmap"
   ]
  },
  {
   "cell_type": "code",
   "execution_count": null,
   "id": "b42d70e3",
   "metadata": {},
   "outputs": [],
   "source": [
    "import seaborn as sns\n",
    "import warnings\n",
    "warnings.filterwarnings(\"ignore\")"
   ]
  },
  {
   "cell_type": "code",
   "execution_count": null,
   "id": "478b3640",
   "metadata": {},
   "outputs": [],
   "source": [
    "df = sns.load_dataset(\"tips\")"
   ]
  },
  {
   "cell_type": "code",
   "execution_count": null,
   "id": "b385ebec",
   "metadata": {},
   "outputs": [],
   "source": [
    "df"
   ]
  },
  {
   "cell_type": "code",
   "execution_count": null,
   "id": "4fc8170e",
   "metadata": {},
   "outputs": [],
   "source": [
    "df.corr()"
   ]
  },
  {
   "cell_type": "code",
   "execution_count": null,
   "id": "d8dfb9cb",
   "metadata": {},
   "outputs": [],
   "source": [
    "sns.heatmap(df.corr(), cmap = \"coolwarm\")"
   ]
  },
  {
   "cell_type": "code",
   "execution_count": null,
   "id": "20e60b70",
   "metadata": {},
   "outputs": [],
   "source": [
    "## Q5: Generate a bar plot using Plotly"
   ]
  },
  {
   "cell_type": "code",
   "execution_count": null,
   "id": "f7c41d35",
   "metadata": {
    "scrolled": true
   },
   "outputs": [],
   "source": [
    "import plotly.express as px\n",
    "\n",
    "\n",
    "data = {\n",
    "    'Fruits': ['Apple', 'Banana', 'Orange', 'Grapes'],\n",
    "    'Quantity': [10, 15, 7, 12]\n",
    "}\n",
    "\n",
    "\n",
    "fig = px.bar(data, x='Fruits', y='Quantity', title='Fruit Quantity Bar Chart')\n",
    "\n",
    "fig.show()\n"
   ]
  },
  {
   "cell_type": "code",
   "execution_count": null,
   "id": "4097f4e5",
   "metadata": {},
   "outputs": [],
   "source": [
    "## Q5:  Create a DataFrame and add a new column based on an existing column"
   ]
  },
  {
   "cell_type": "code",
   "execution_count": null,
   "id": "64dfdcc1",
   "metadata": {},
   "outputs": [],
   "source": [
    "df"
   ]
  },
  {
   "cell_type": "code",
   "execution_count": null,
   "id": "0b804ca2",
   "metadata": {},
   "outputs": [],
   "source": [
    "df['tips_percentage'] = df['tip']/df['total_bill']*100"
   ]
  },
  {
   "cell_type": "code",
   "execution_count": null,
   "id": "3b07aab8",
   "metadata": {},
   "outputs": [],
   "source": [
    "df['tips_percentage']"
   ]
  },
  {
   "cell_type": "code",
   "execution_count": null,
   "id": "f570d6d5",
   "metadata": {},
   "outputs": [],
   "source": [
    "## Q6: Write a program to perform element-wise multiplication of two NumPy arrays"
   ]
  },
  {
   "cell_type": "code",
   "execution_count": null,
   "id": "3b8910b4",
   "metadata": {},
   "outputs": [],
   "source": [
    "import numpy as np"
   ]
  },
  {
   "cell_type": "code",
   "execution_count": null,
   "id": "4fc457c6",
   "metadata": {},
   "outputs": [],
   "source": [
    "a = np.array([[1,2,3],[4,5,6]])\n",
    "b = np.array([[7,8,9],[1,2,3]])"
   ]
  },
  {
   "cell_type": "code",
   "execution_count": null,
   "id": "987053f7",
   "metadata": {},
   "outputs": [],
   "source": [
    "arr = a*b"
   ]
  },
  {
   "cell_type": "code",
   "execution_count": null,
   "id": "290f1714",
   "metadata": {},
   "outputs": [],
   "source": [
    "arr"
   ]
  },
  {
   "cell_type": "code",
   "execution_count": null,
   "id": "135de725",
   "metadata": {},
   "outputs": [],
   "source": [
    "## Q7: Create a line plot with multiple lines using Matplotlib"
   ]
  },
  {
   "cell_type": "code",
   "execution_count": null,
   "id": "5202d15a",
   "metadata": {},
   "outputs": [],
   "source": [
    "x = [1, 2, 3, 4, 5]\n",
    "y1 = [1, 4, 9, 16, 25]      \n",
    "y2 = [1, 2, 3, 4, 5]        \n",
    "y3 = [25, 16, 9, 4, 1]  "
   ]
  },
  {
   "cell_type": "code",
   "execution_count": null,
   "id": "3d9bde50",
   "metadata": {},
   "outputs": [],
   "source": [
    "plt.plot(x,y1, marker = 'o', label ='y = x2' )\n",
    "plt.plot(x,y2, marker = '+', label = 'y= x' )\n",
    "plt.plot(x,y3, marker = '*' , label = 'y = reversed sqaured')\n",
    "plt.title('Multiple Line Plot Example')\n",
    "plt.xlabel('X-axis')\n",
    "plt.ylabel('Y-axis')\n",
    "plt.legend()\n",
    "plt.show()"
   ]
  },
  {
   "cell_type": "code",
   "execution_count": null,
   "id": "6c1a8e43",
   "metadata": {},
   "outputs": [],
   "source": [
    "## Q8: Generate a Pandas DataFrame and filter rows where a column value is greater than a thresholdA"
   ]
  },
  {
   "cell_type": "code",
   "execution_count": null,
   "id": "995bac6a",
   "metadata": {},
   "outputs": [],
   "source": [
    "df = pd.DataFrame({\"id\":[20, 80,56],\n",
    "                  \"Age\":[23,45,67]})\n"
   ]
  },
  {
   "cell_type": "code",
   "execution_count": null,
   "id": "18cab6af",
   "metadata": {},
   "outputs": [],
   "source": [
    "df"
   ]
  },
  {
   "cell_type": "code",
   "execution_count": null,
   "id": "370d1eb3",
   "metadata": {},
   "outputs": [],
   "source": [
    "threshold = 65"
   ]
  },
  {
   "cell_type": "code",
   "execution_count": null,
   "id": "4620d2a7",
   "metadata": {},
   "outputs": [],
   "source": [
    "df[df > threshold]"
   ]
  },
  {
   "cell_type": "code",
   "execution_count": null,
   "id": "e03c6c6a",
   "metadata": {},
   "outputs": [],
   "source": [
    "## Q9: Create a histogram using Seaborn to visualize a distributionA"
   ]
  },
  {
   "cell_type": "code",
   "execution_count": null,
   "id": "4908bb06",
   "metadata": {},
   "outputs": [],
   "source": [
    "df= sns.load_dataset(\"tips\")"
   ]
  },
  {
   "cell_type": "code",
   "execution_count": null,
   "id": "bd386286",
   "metadata": {},
   "outputs": [],
   "source": [
    "df"
   ]
  },
  {
   "cell_type": "code",
   "execution_count": null,
   "id": "53cf5cc0",
   "metadata": {},
   "outputs": [],
   "source": [
    "sns.histplot(data =df,x = \"total_bill\",y = \"tip\", hue= \"sex\")"
   ]
  },
  {
   "cell_type": "code",
   "execution_count": null,
   "id": "5d23861a",
   "metadata": {},
   "outputs": [],
   "source": [
    "## Q11: Perform matrix multiplication using NumPyA"
   ]
  },
  {
   "cell_type": "code",
   "execution_count": null,
   "id": "22e48683",
   "metadata": {},
   "outputs": [],
   "source": [
    "mat = np.matrix([[1,2,3],[4,5,6]])"
   ]
  },
  {
   "cell_type": "code",
   "execution_count": null,
   "id": "792fa09f",
   "metadata": {},
   "outputs": [],
   "source": [
    "mat"
   ]
  },
  {
   "cell_type": "code",
   "execution_count": null,
   "id": "bb935644",
   "metadata": {},
   "outputs": [],
   "source": [
    "mat1 = np.matrix([[4,8,7],[9,5,5]])"
   ]
  },
  {
   "cell_type": "code",
   "execution_count": null,
   "id": "50077304",
   "metadata": {},
   "outputs": [],
   "source": [
    "mat3= np.matmul(mat,mat1.T)"
   ]
  },
  {
   "cell_type": "code",
   "execution_count": null,
   "id": "569f41c9",
   "metadata": {},
   "outputs": [],
   "source": [
    "mat3"
   ]
  },
  {
   "cell_type": "code",
   "execution_count": null,
   "id": "d3f40bad",
   "metadata": {},
   "outputs": [],
   "source": [
    "## q12: Use Pandas to load a CSV file and display its first 5 rowsA"
   ]
  },
  {
   "cell_type": "code",
   "execution_count": null,
   "id": "ec723f0c",
   "metadata": {},
   "outputs": [],
   "source": [
    "df = pd.read_csv(\"services.csv\")"
   ]
  },
  {
   "cell_type": "code",
   "execution_count": null,
   "id": "bb737b3b",
   "metadata": {},
   "outputs": [],
   "source": [
    "df.head()"
   ]
  },
  {
   "cell_type": "code",
   "execution_count": null,
   "id": "85ec4b9b",
   "metadata": {},
   "outputs": [],
   "source": [
    "## q13: Create a 3D scatter plot using Plotly."
   ]
  },
  {
   "cell_type": "code",
   "execution_count": null,
   "id": "c70cdfff",
   "metadata": {},
   "outputs": [],
   "source": [
    "df= sns.load_dataset(\"tips\")"
   ]
  },
  {
   "cell_type": "code",
   "execution_count": null,
   "id": "d42aaa5e",
   "metadata": {},
   "outputs": [],
   "source": [
    "df"
   ]
  },
  {
   "cell_type": "code",
   "execution_count": null,
   "id": "367bc618",
   "metadata": {},
   "outputs": [],
   "source": [
    "fig = px.scatter_3d(df,x = 'total_bill', y='tip', z= 'size', color='time')\n",
    "fig.show()"
   ]
  },
  {
   "cell_type": "code",
   "execution_count": null,
   "id": "a2bc3ead",
   "metadata": {},
   "outputs": [],
   "source": []
  }
 ],
 "metadata": {
  "kernelspec": {
   "display_name": "Python 3 (ipykernel)",
   "language": "python",
   "name": "python3"
  },
  "language_info": {
   "codemirror_mode": {
    "name": "ipython",
    "version": 3
   },
   "file_extension": ".py",
   "mimetype": "text/x-python",
   "name": "python",
   "nbconvert_exporter": "python",
   "pygments_lexer": "ipython3",
   "version": "3.9.21"
  }
 },
 "nbformat": 4,
 "nbformat_minor": 5
}
